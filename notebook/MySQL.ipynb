{
 "cells": [
  {
   "cell_type": "code",
   "execution_count": 7,
   "id": "22b86270",
   "metadata": {
    "ExecuteTime": {
     "end_time": "2024-03-03T14:27:33.345302Z",
     "start_time": "2024-03-03T14:27:28.754534Z"
    }
   },
   "outputs": [],
   "source": [
    "from sqlalchemy import create_engine\n",
    "import pymysql\n",
    "import pandas as pd\n",
    "\n",
    "user = 'root'\n",
    "password = ''\n",
    "host = '127.0.0.1'\n",
    "db = 'kobis'\n",
    "\n",
    "# conn = pymysql.connect(host=host, user=user, password=password, db=db, charset='utf8')\n",
    "db_connection_str = f'mysql+pymysql://{user}:{password}@{host}/{db}'\n",
    "db_connection = create_engine(db_connection_str)\n",
    "conn = db_connection.connect()"
   ]
  },
  {
   "cell_type": "code",
   "execution_count": 10,
   "id": "94250797",
   "metadata": {
    "ExecuteTime": {
     "end_time": "2024-03-03T14:34:06.741773Z",
     "start_time": "2024-03-03T14:34:05.481678Z"
    }
   },
   "outputs": [],
   "source": [
    "import glob\n",
    "\n",
    "data_paths = glob.glob(\"../data/kobis/MovieList/*.csv\")\n",
    "\n",
    "for data_path in data_paths:\n",
    "    df = pd.read_csv(data_path)\n",
    "    df = df.astype({'movieCd':'string'})\n",
    "    # 데이터프레임을 테이블에 삽입\n",
    "    movie_list.to_sql(name='movie_list', con=db_connection, if_exists='append',index=False)  "
   ]
  },
  {
   "cell_type": "code",
   "execution_count": 13,
   "id": "4b9adda6",
   "metadata": {
    "ExecuteTime": {
     "end_time": "2024-03-03T14:35:56.823025Z",
     "start_time": "2024-03-03T14:35:31.281586Z"
    }
   },
   "outputs": [],
   "source": [
    "import glob\n",
    "\n",
    "data_paths = glob.glob(\"../data/kobis/DailyBoxOffice/*.csv\")\n",
    "\n",
    "for data_path in data_paths:\n",
    "    df = pd.read_csv(data_path)\n",
    "    df = df.astype({'movieCd':'string'})\n",
    "    # 데이터프레임을 테이블에 삽입\n",
    "    movie_list.to_sql(name='daily_box_office', con=db_connection, if_exists='append',index=False)  "
   ]
  },
  {
   "cell_type": "code",
   "execution_count": null,
   "id": "364a367f",
   "metadata": {},
   "outputs": [],
   "source": []
  }
 ],
 "metadata": {
  "kernelspec": {
   "display_name": "Python 3 (ipykernel)",
   "language": "python",
   "name": "python3"
  },
  "language_info": {
   "codemirror_mode": {
    "name": "ipython",
    "version": 3
   },
   "file_extension": ".py",
   "mimetype": "text/x-python",
   "name": "python",
   "nbconvert_exporter": "python",
   "pygments_lexer": "ipython3",
   "version": "3.8.10"
  },
  "toc": {
   "base_numbering": 1,
   "nav_menu": {},
   "number_sections": true,
   "sideBar": true,
   "skip_h1_title": false,
   "title_cell": "Table of Contents",
   "title_sidebar": "Contents",
   "toc_cell": false,
   "toc_position": {},
   "toc_section_display": true,
   "toc_window_display": false
  }
 },
 "nbformat": 4,
 "nbformat_minor": 5
}
