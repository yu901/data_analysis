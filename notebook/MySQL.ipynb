{
 "cells": [
  {
   "cell_type": "code",
   "execution_count": 1,
   "id": "22b86270",
   "metadata": {
    "ExecuteTime": {
     "end_time": "2024-03-09T06:40:08.013300Z",
     "start_time": "2024-03-09T06:40:05.550444Z"
    }
   },
   "outputs": [],
   "source": [
    "from sqlalchemy import create_engine\n",
    "import pymysql\n",
    "import pandas as pd\n",
    "\n",
    "user = 'root'\n",
    "password = ''\n",
    "host = '127.0.0.1'\n",
    "db = 'kobis'\n",
    "\n",
    "# conn = pymysql.connect(host=host, user=user, password=password, db=db, charset='utf8')\n",
    "db_connection_str = f'mysql+pymysql://{user}:{password}@{host}/{db}'\n",
    "db_connection = create_engine(db_connection_str)"
   ]
  },
  {
   "cell_type": "markdown",
   "id": "5efc0401",
   "metadata": {},
   "source": [
    "### 데이터 업로드"
   ]
  },
  {
   "cell_type": "code",
   "execution_count": 10,
   "id": "94250797",
   "metadata": {
    "ExecuteTime": {
     "end_time": "2024-03-03T14:34:06.741773Z",
     "start_time": "2024-03-03T14:34:05.481678Z"
    }
   },
   "outputs": [],
   "source": [
    "import glob\n",
    "\n",
    "data_paths = glob.glob(\"../data/kobis/MovieList/*.csv\")\n",
    "\n",
    "for data_path in data_paths:\n",
    "    df = pd.read_csv(data_path)\n",
    "    df = df.astype({'movieCd':'string'})\n",
    "    # 데이터프레임을 테이블에 삽입\n",
    "    df.to_sql(name='movie_list', con=db_connection, if_exists='append',index=False)  "
   ]
  },
  {
   "cell_type": "code",
   "execution_count": 13,
   "id": "4b9adda6",
   "metadata": {
    "ExecuteTime": {
     "end_time": "2024-03-03T14:35:56.823025Z",
     "start_time": "2024-03-03T14:35:31.281586Z"
    }
   },
   "outputs": [],
   "source": [
    "import glob\n",
    "\n",
    "data_paths = glob.glob(\"../data/kobis/DailyBoxOffice/*.csv\")\n",
    "\n",
    "for data_path in data_paths:\n",
    "    df = pd.read_csv(data_path)\n",
    "    df = df.astype({'movieCd':'string'})\n",
    "    # 데이터프레임을 테이블에 삽입\n",
    "    df.to_sql(name='daily_box_office', con=db_connection, if_exists='append',index=False)  "
   ]
  },
  {
   "cell_type": "markdown",
   "id": "c5a41d41",
   "metadata": {},
   "source": [
    "### 데이터 검색"
   ]
  },
  {
   "cell_type": "code",
   "execution_count": 5,
   "id": "364a367f",
   "metadata": {
    "ExecuteTime": {
     "end_time": "2024-03-09T06:45:51.313519Z",
     "start_time": "2024-03-09T06:45:51.277613Z"
    }
   },
   "outputs": [],
   "source": [
    "conn = pymysql.connect(host=host, user=user, password=password, db=db, charset='utf8')\n",
    "cursor = conn.cursor()"
   ]
  },
  {
   "cell_type": "code",
   "execution_count": 10,
   "id": "caae22f8",
   "metadata": {
    "ExecuteTime": {
     "end_time": "2024-03-09T09:14:18.866203Z",
     "start_time": "2024-03-09T09:14:18.509486Z"
    }
   },
   "outputs": [
    {
     "data": {
      "text/plain": [
       "0"
      ]
     },
     "execution_count": 10,
     "metadata": {},
     "output_type": "execute_result"
    }
   ],
   "source": [
    "query = \"select * from daily_box_office where openDt>20240221\"\n",
    "cursor.execute(query)"
   ]
  },
  {
   "cell_type": "code",
   "execution_count": 8,
   "id": "f1bc93ed",
   "metadata": {
    "ExecuteTime": {
     "end_time": "2024-03-09T09:13:02.712361Z",
     "start_time": "2024-03-09T09:13:00.280744Z"
    }
   },
   "outputs": [
    {
     "name": "stderr",
     "output_type": "stream",
     "text": [
      "IOPub data rate exceeded.\n",
      "The notebook server will temporarily stop sending output\n",
      "to the client in order to avoid crashing it.\n",
      "To change this limit, set the config variable\n",
      "`--NotebookApp.iopub_data_rate_limit`.\n",
      "\n",
      "Current values:\n",
      "NotebookApp.iopub_data_rate_limit=1000000.0 (bytes/sec)\n",
      "NotebookApp.rate_limit_window=3.0 (secs)\n",
      "\n"
     ]
    }
   ],
   "source": [
    "select_all_result  = cursor.fetchall()\n",
    "for x in select_all_result:\n",
    "    print(x)"
   ]
  },
  {
   "cell_type": "code",
   "execution_count": null,
   "id": "6f6dc41b",
   "metadata": {},
   "outputs": [],
   "source": []
  }
 ],
 "metadata": {
  "kernelspec": {
   "display_name": "Python 3 (ipykernel)",
   "language": "python",
   "name": "python3"
  },
  "language_info": {
   "codemirror_mode": {
    "name": "ipython",
    "version": 3
   },
   "file_extension": ".py",
   "mimetype": "text/x-python",
   "name": "python",
   "nbconvert_exporter": "python",
   "pygments_lexer": "ipython3",
   "version": "3.8.10"
  },
  "toc": {
   "base_numbering": 1,
   "nav_menu": {},
   "number_sections": true,
   "sideBar": true,
   "skip_h1_title": false,
   "title_cell": "Table of Contents",
   "title_sidebar": "Contents",
   "toc_cell": false,
   "toc_position": {},
   "toc_section_display": true,
   "toc_window_display": false
  }
 },
 "nbformat": 4,
 "nbformat_minor": 5
}
