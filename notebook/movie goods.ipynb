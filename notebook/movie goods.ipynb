{
 "cells": [
  {
   "cell_type": "code",
   "execution_count": 1,
   "id": "487999a4",
   "metadata": {
    "ExecuteTime": {
     "end_time": "2024-04-14T13:01:01.759422Z",
     "start_time": "2024-04-14T13:00:56.856698Z"
    }
   },
   "outputs": [],
   "source": [
    "import requests\n",
    "import json\n",
    "import pandas as pd\n",
    "from bs4 import BeautifulSoup\n",
    "import re"
   ]
  },
  {
   "cell_type": "markdown",
   "id": "f4478eba",
   "metadata": {},
   "source": [
    "# CGV"
   ]
  },
  {
   "cell_type": "markdown",
   "id": "0d438380",
   "metadata": {},
   "source": [
    "## Event List"
   ]
  },
  {
   "cell_type": "code",
   "execution_count": 2,
   "id": "92533138",
   "metadata": {
    "ExecuteTime": {
     "end_time": "2024-04-14T13:01:03.464229Z",
     "start_time": "2024-04-14T13:01:03.436238Z"
    }
   },
   "outputs": [],
   "source": [
    "def get_GoodsIdx(event_idx):\n",
    "    url = \"https://m.cgv.co.kr/Event/GiveawayEventDetail.aspx/GetGiveawayEventDetail\"\n",
    "    body = {\n",
    "        \"eventIndex\": event_idx,\n",
    "        \"giveawayIndex\": None\n",
    "    }\n",
    "    response = requests.post(url, json=body)\n",
    "    text = response.text\n",
    "    loads = json.loads(text)\n",
    "    goods_idx = loads[\"d\"][\"GiveawayItemList\"][0][\"GiveawayItemCode\"]\n",
    "    return goods_idx\n",
    "\n",
    "def get_EventList(movie_filter='', goods_filter=''):\n",
    "    url = \"https://m.cgv.co.kr/Event/GiveawayEventList.aspx/GetGiveawayEventList\"\n",
    "    body = {\n",
    "        \"theaterCode\": \"\",\n",
    "        \"pageNumber\": \"1\",\n",
    "        \"pageSize\": \"100\"\n",
    "    }\n",
    "    response = requests.post(url, json=body)\n",
    "    text = response.text\n",
    "    loads = json.loads(text)\n",
    "    soup = BeautifulSoup(loads['d']['List'])\n",
    "    event_list = soup.find_all(\"li\")\n",
    "    event_df = pd.DataFrame()\n",
    "    p = re.compile(r'\\[([\\d\\D]+)\\]') # 영화이름 추출 정규식\n",
    "    for event in event_list:\n",
    "        event_idx = event['data-eventidx']\n",
    "        goods_idx = get_GoodsIdx(event_idx)\n",
    "        event_name = event.find(\"strong\").get_text()\n",
    "        event_period = event.find(\"span\").get_text()\n",
    "        m = p.match(event_name)\n",
    "        movie_name = m.group()[1:-1]\n",
    "        goods_name = event_name[m.end():] # 띄어쓰기 했다안했다\n",
    "        event_dict = {\"event_idx\":event_idx, \"goods_idx\":goods_idx, \"movie\":movie_name, \"goods\":goods_name, \"period\":event_period}\n",
    "        event_df = pd.concat([event_df, pd.DataFrame.from_dict(event_dict, orient='index').T], ignore_index=True)\n",
    "    event_df = event_df[\n",
    "        (event_df[\"movie\"].str.contains(movie_filter)) &\n",
    "        (event_df[\"goods\"].str.contains(goods_filter))\n",
    "    ]\n",
    "    # 날짜 필터도 추가 예정\n",
    "    # 위에서 필터링\n",
    "    return event_df"
   ]
  },
  {
   "cell_type": "code",
   "execution_count": 3,
   "id": "dd232804",
   "metadata": {
    "ExecuteTime": {
     "end_time": "2024-04-14T13:01:10.685987Z",
     "start_time": "2024-04-14T13:01:05.021834Z"
    }
   },
   "outputs": [
    {
     "data": {
      "text/html": [
       "<div>\n",
       "<style scoped>\n",
       "    .dataframe tbody tr th:only-of-type {\n",
       "        vertical-align: middle;\n",
       "    }\n",
       "\n",
       "    .dataframe tbody tr th {\n",
       "        vertical-align: top;\n",
       "    }\n",
       "\n",
       "    .dataframe thead th {\n",
       "        text-align: right;\n",
       "    }\n",
       "</style>\n",
       "<table border=\"1\" class=\"dataframe\">\n",
       "  <thead>\n",
       "    <tr style=\"text-align: right;\">\n",
       "      <th></th>\n",
       "      <th>event_idx</th>\n",
       "      <th>goods_idx</th>\n",
       "      <th>movie</th>\n",
       "      <th>goods</th>\n",
       "      <th>period</th>\n",
       "    </tr>\n",
       "  </thead>\n",
       "  <tbody>\n",
       "    <tr>\n",
       "      <th>0</th>\n",
       "      <td>202403253872</td>\n",
       "      <td>2024032538723859</td>\n",
       "      <td>고질라 X 콩-뉴 엠파이어</td>\n",
       "      <td>TTT</td>\n",
       "      <td>2024.03.27 ~ 2024.04.26</td>\n",
       "    </tr>\n",
       "    <tr>\n",
       "      <th>5</th>\n",
       "      <td>202403183820</td>\n",
       "      <td>2024031838203819</td>\n",
       "      <td>극장판 스파이 패밀리 코드-화이트</td>\n",
       "      <td>TTT</td>\n",
       "      <td>2024.03.20 ~ 2024.04.19</td>\n",
       "    </tr>\n",
       "    <tr>\n",
       "      <th>6</th>\n",
       "      <td>202404013900</td>\n",
       "      <td>2024040139003887</td>\n",
       "      <td>기동전사 건담 시드 프리덤</td>\n",
       "      <td>TTT</td>\n",
       "      <td>2024.04.03 ~ 2024.05.02</td>\n",
       "    </tr>\n",
       "    <tr>\n",
       "      <th>15</th>\n",
       "      <td>202404093946</td>\n",
       "      <td>2024040939463943</td>\n",
       "      <td>슈가│어거스트 디 투어~</td>\n",
       "      <td>TTT 증정</td>\n",
       "      <td>2024.04.10 ~ 2024.04.16</td>\n",
       "    </tr>\n",
       "    <tr>\n",
       "      <th>25</th>\n",
       "      <td>202404013901</td>\n",
       "      <td>2024040139013888</td>\n",
       "      <td>유미의 세포들 더 무비</td>\n",
       "      <td>TTT</td>\n",
       "      <td>2024.04.03 ~ 2024.05.02</td>\n",
       "    </tr>\n",
       "    <tr>\n",
       "      <th>28</th>\n",
       "      <td>202404083925</td>\n",
       "      <td>2024040839253922</td>\n",
       "      <td>쿵푸팬더4</td>\n",
       "      <td>TTT</td>\n",
       "      <td>2024.04.08 ~ 2024.05.09</td>\n",
       "    </tr>\n",
       "    <tr>\n",
       "      <th>32</th>\n",
       "      <td>202403043767</td>\n",
       "      <td>2024030437673750</td>\n",
       "      <td>패스트 라이브즈</td>\n",
       "      <td>TTT</td>\n",
       "      <td>2024.03.06 ~ 2024.04.21</td>\n",
       "    </tr>\n",
       "  </tbody>\n",
       "</table>\n",
       "</div>"
      ],
      "text/plain": [
       "       event_idx         goods_idx               movie   goods  \\\n",
       "0   202403253872  2024032538723859      고질라 X 콩-뉴 엠파이어     TTT   \n",
       "5   202403183820  2024031838203819  극장판 스파이 패밀리 코드-화이트     TTT   \n",
       "6   202404013900  2024040139003887      기동전사 건담 시드 프리덤     TTT   \n",
       "15  202404093946  2024040939463943       슈가│어거스트 디 투어~  TTT 증정   \n",
       "25  202404013901  2024040139013888        유미의 세포들 더 무비     TTT   \n",
       "28  202404083925  2024040839253922               쿵푸팬더4     TTT   \n",
       "32  202403043767  2024030437673750            패스트 라이브즈     TTT   \n",
       "\n",
       "                     period  \n",
       "0   2024.03.27 ~ 2024.04.26  \n",
       "5   2024.03.20 ~ 2024.04.19  \n",
       "6   2024.04.03 ~ 2024.05.02  \n",
       "15  2024.04.10 ~ 2024.04.16  \n",
       "25  2024.04.03 ~ 2024.05.02  \n",
       "28  2024.04.08 ~ 2024.05.09  \n",
       "32  2024.03.06 ~ 2024.04.21  "
      ]
     },
     "execution_count": 3,
     "metadata": {},
     "output_type": "execute_result"
    }
   ],
   "source": [
    "event_df = get_EventList(goods_filter=\"TTT\")\n",
    "event_df"
   ]
  },
  {
   "cell_type": "markdown",
   "id": "831cea8f",
   "metadata": {},
   "source": [
    "## Goods"
   ]
  },
  {
   "cell_type": "markdown",
   "id": "6ade404b",
   "metadata": {},
   "source": [
    "- type2: 재고보유가능성높음\n",
    "- type3: 재고소진임박\n",
    "- type4: 마감"
   ]
  },
  {
   "cell_type": "code",
   "execution_count": 4,
   "id": "2cc8c7d0",
   "metadata": {
    "ExecuteTime": {
     "end_time": "2024-04-14T13:01:14.402993Z",
     "start_time": "2024-04-14T13:01:14.391499Z"
    }
   },
   "outputs": [],
   "source": [
    "def get_Theaters(giveawayIndex):\n",
    "    url = \"https://m.cgv.co.kr/Event/GiveawayEventDetail.aspx/GetGiveawayTheaterInfo\"\n",
    "    body = {\n",
    "        \"giveawayIndex\": giveawayIndex,\n",
    "        \"areaCode\": None\n",
    "    }\n",
    "    response = requests.post(url, json=body)\n",
    "    text = response.text\n",
    "    loads = json.loads(text)\n",
    "    AreaList = loads[\"d\"][\"AreaList\"]\n",
    "    Theaters = pd.DataFrame()\n",
    "    for Area in AreaList:\n",
    "        AreaCode = Area[\"AreaCode\"]\n",
    "        body = {\n",
    "            \"giveawayIndex\": giveawayIndex,\n",
    "             \"areaCode\": AreaCode\n",
    "        }\n",
    "        response = requests.post(url, json=body)\n",
    "        text = response.text\n",
    "        loads = json.loads(text)\n",
    "        Theater = pd.DataFrame(loads[\"d\"][\"TheaterList\"])\n",
    "        Theaters = pd.concat([Theaters, Theater[[\"TheaterName\", \"TheaterCode\", \"CountTypeCode\"]]], ignore_index=True)\n",
    "    return Theaters"
   ]
  },
  {
   "cell_type": "code",
   "execution_count": 5,
   "id": "4256bf0a",
   "metadata": {
    "ExecuteTime": {
     "end_time": "2024-04-14T13:01:17.795416Z",
     "start_time": "2024-04-14T13:01:15.509697Z"
    }
   },
   "outputs": [
    {
     "data": {
      "text/html": [
       "<div>\n",
       "<style scoped>\n",
       "    .dataframe tbody tr th:only-of-type {\n",
       "        vertical-align: middle;\n",
       "    }\n",
       "\n",
       "    .dataframe tbody tr th {\n",
       "        vertical-align: top;\n",
       "    }\n",
       "\n",
       "    .dataframe thead th {\n",
       "        text-align: right;\n",
       "    }\n",
       "</style>\n",
       "<table border=\"1\" class=\"dataframe\">\n",
       "  <thead>\n",
       "    <tr style=\"text-align: right;\">\n",
       "      <th></th>\n",
       "      <th>TheaterName</th>\n",
       "      <th>TheaterCode</th>\n",
       "      <th>CountTypeCode</th>\n",
       "    </tr>\n",
       "  </thead>\n",
       "  <tbody>\n",
       "    <tr>\n",
       "      <th>0</th>\n",
       "      <td>CGV 강남</td>\n",
       "      <td>0056</td>\n",
       "      <td>type2</td>\n",
       "    </tr>\n",
       "    <tr>\n",
       "      <th>1</th>\n",
       "      <td>CGV 강변</td>\n",
       "      <td>0001</td>\n",
       "      <td>type4</td>\n",
       "    </tr>\n",
       "    <tr>\n",
       "      <th>2</th>\n",
       "      <td>CGV 구로</td>\n",
       "      <td>0010</td>\n",
       "      <td>type2</td>\n",
       "    </tr>\n",
       "    <tr>\n",
       "      <th>3</th>\n",
       "      <td>CGV 동대문</td>\n",
       "      <td>0252</td>\n",
       "      <td>type2</td>\n",
       "    </tr>\n",
       "    <tr>\n",
       "      <th>4</th>\n",
       "      <td>CGV 등촌</td>\n",
       "      <td>0230</td>\n",
       "      <td>type2</td>\n",
       "    </tr>\n",
       "    <tr>\n",
       "      <th>...</th>\n",
       "      <td>...</td>\n",
       "      <td>...</td>\n",
       "      <td>...</td>\n",
       "    </tr>\n",
       "    <tr>\n",
       "      <th>59</th>\n",
       "      <td>CGV 서전주</td>\n",
       "      <td>0225</td>\n",
       "      <td>type2</td>\n",
       "    </tr>\n",
       "    <tr>\n",
       "      <th>60</th>\n",
       "      <td>CGV 전주고사</td>\n",
       "      <td>0213</td>\n",
       "      <td>type4</td>\n",
       "    </tr>\n",
       "    <tr>\n",
       "      <th>61</th>\n",
       "      <td>CGV 목포평화광장</td>\n",
       "      <td>0280</td>\n",
       "      <td>type2</td>\n",
       "    </tr>\n",
       "    <tr>\n",
       "      <th>62</th>\n",
       "      <td>CGV 순천신대</td>\n",
       "      <td>0268</td>\n",
       "      <td>type4</td>\n",
       "    </tr>\n",
       "    <tr>\n",
       "      <th>63</th>\n",
       "      <td>CGV 여수웅천</td>\n",
       "      <td>0315</td>\n",
       "      <td>type2</td>\n",
       "    </tr>\n",
       "  </tbody>\n",
       "</table>\n",
       "<p>64 rows × 3 columns</p>\n",
       "</div>"
      ],
      "text/plain": [
       "   TheaterName TheaterCode CountTypeCode\n",
       "0       CGV 강남        0056         type2\n",
       "1       CGV 강변        0001         type4\n",
       "2       CGV 구로        0010         type2\n",
       "3      CGV 동대문        0252         type2\n",
       "4       CGV 등촌        0230         type2\n",
       "..         ...         ...           ...\n",
       "59     CGV 서전주        0225         type2\n",
       "60    CGV 전주고사        0213         type4\n",
       "61  CGV 목포평화광장        0280         type2\n",
       "62    CGV 순천신대        0268         type4\n",
       "63    CGV 여수웅천        0315         type2\n",
       "\n",
       "[64 rows x 3 columns]"
      ]
     },
     "execution_count": 5,
     "metadata": {},
     "output_type": "execute_result"
    }
   ],
   "source": [
    "giveawayIndex = '2024032538723859'\n",
    "Theaters = get_Theaters(giveawayIndex)\n",
    "Theaters"
   ]
  },
  {
   "cell_type": "code",
   "execution_count": null,
   "id": "8f1ded74",
   "metadata": {},
   "outputs": [],
   "source": []
  }
 ],
 "metadata": {
  "kernelspec": {
   "display_name": "Python 3 (ipykernel)",
   "language": "python",
   "name": "python3"
  },
  "language_info": {
   "codemirror_mode": {
    "name": "ipython",
    "version": 3
   },
   "file_extension": ".py",
   "mimetype": "text/x-python",
   "name": "python",
   "nbconvert_exporter": "python",
   "pygments_lexer": "ipython3",
   "version": "3.8.10"
  },
  "toc": {
   "base_numbering": 1,
   "nav_menu": {},
   "number_sections": true,
   "sideBar": true,
   "skip_h1_title": false,
   "title_cell": "Table of Contents",
   "title_sidebar": "Contents",
   "toc_cell": false,
   "toc_position": {},
   "toc_section_display": true,
   "toc_window_display": false
  }
 },
 "nbformat": 4,
 "nbformat_minor": 5
}
