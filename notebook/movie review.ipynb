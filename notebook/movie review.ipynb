{
 "cells": [
  {
   "cell_type": "markdown",
   "id": "bfbbb96e",
   "metadata": {},
   "source": [
    "# 네이버 API"
   ]
  },
  {
   "cell_type": "code",
   "execution_count": 132,
   "id": "71e00dcb",
   "metadata": {
    "ExecuteTime": {
     "end_time": "2024-01-28T12:29:26.181761Z",
     "start_time": "2024-01-28T12:29:26.172784Z"
    }
   },
   "outputs": [],
   "source": [
    "import os\n",
    "import sys\n",
    "import urllib.request\n",
    "\n",
    "client_id = \"YOUR_CLIENT_ID\"\n",
    "client_secret = \"YOUR_CLIENT_SECRET\""
   ]
  },
  {
   "cell_type": "markdown",
   "id": "70bc9010",
   "metadata": {},
   "source": [
    "### 검색"
   ]
  },
  {
   "cell_type": "markdown",
   "id": "aa78457d",
   "metadata": {},
   "source": [
    "- 웹 문서: webkr\n",
    "- 지식in: kin\n",
    "- 전문자료: doc"
   ]
  },
  {
   "cell_type": "code",
   "execution_count": 104,
   "id": "5514353a",
   "metadata": {
    "ExecuteTime": {
     "end_time": "2024-01-28T12:11:54.003559Z",
     "start_time": "2024-01-28T12:11:53.240722Z"
    }
   },
   "outputs": [
    {
     "name": "stdout",
     "output_type": "stream",
     "text": [
      "{\n",
      "\t\"lastBuildDate\":\"Sun, 28 Jan 2024 21:11:52 +0900\",\n",
      "\t\"total\":18354316,\n",
      "\t\"start\":1,\n",
      "\t\"display\":10,\n",
      "\t\"items\":[\n",
      "\t\t{\n",
      "\t\t\t\"title\":\"<b>서울의 봄<\\/b>(<b>영화<\\/b>) - 나무위키\",\n",
      "\t\t\t\"link\":\"https:\\/\\/namu.wiki\\/w\\/%EC%84%9C%EC%9A%B8%EC%9D%98%20%EB%B4%84(%EC%98%81%ED%99%94)\",\n",
      "\t\t\t\"description\":\"2023년11월 22일 개봉한 김성수의 한국 <b>영화<\\/b>. 1979년 12월에 발발한 12.12 군사반란을 주요 소재로 한다.\"\n",
      "\t\t},\n",
      "\t\t{\n",
      "\t\t\t\"title\":\"<b>서울의 봄<\\/b> (<b>영화<\\/b>) - 위키백과 한국\",\n",
      "\t\t\t\"link\":\"https:\\/\\/ko.wikipedia.org\\/wiki\\/%EC%84%9C%EC%9A%B8%EC%9D%98_%EB%B4%84_(%EC%98%81%ED%99%94)\",\n",
      "\t\t\t\"description\":\"《 <b>서울의 봄<\\/b> 》은 2023년 11월 22일 개봉한 대한민국의 역사 <b>영화<\\/b>로, 12.12 군사반란을 다루었다. 감독은 김성수이고, 황정민, 정우성 등이 출연하였다. 군사 반란이 일어난 1979년 12월 12일 저녁 7시부터 이튿날 새벽 4시까지의 9시간을, <b>영화<\\/b> 141분에 담았다. <b>영화<\\/b>에서는 반란군과 진압군 지휘관 등의 이름을...\"\n",
      "\t\t},\n",
      "\t\t{\n",
      "\t\t\t\"title\":\"<b>서울의 봄<\\/b> - 위키백과 한국\",\n",
      "\t\t\t\"link\":\"https:\\/\\/ko.wikipedia.org\\/wiki\\/%EC%84%9C%EC%9A%B8%EC%9D%98_%EB%B4%84\",\n",
      "\t\t\t\"description\":\"2023년 개봉한 <b>영화<\\/b>에 대해서는 <b>서울의 봄<\\/b> (<b>영화<\\/b>) 문서를 참고하십시오. <b>서울의 봄<\\/b>은 대한민국에서... 사건 <b>서울의 봄<\\/b> <b>서울<\\/b>역 회군 5·17 쿠데타 전두환의 김대중 내란음모 조작 사건 언론통폐합 관련 인물...\"\n",
      "\t\t},\n",
      "\t\t{\n",
      "\t\t\t\"title\":\"<b>서울의 봄<\\/b>(<b>영화<\\/b>)\\/등장인물 - 나무위키\",\n",
      "\t\t\t\"link\":\"https:\\/\\/namu.wiki\\/w\\/%EC%84%9C%EC%9A%B8%EC%9D%98%20%EB%B4%84(%EC%98%81%ED%99%94)\\/%EB%93%B1%EC%9E%A5%EC%9D%B8%EB%AC%BC\",\n",
      "\t\t\t\"description\":\"<b>영화<\\/b> 《<b>서울의 봄<\\/b>》의 등장인물을 정리한 문서. 실제 인물과 사건을 모티브로 만들었기 때문에 배역의 특징들이 실제 인물과 많이 유사하며 이름도 비슷하게 붙인 경우가 많다.\"\n",
      "\t\t},\n",
      "\t\t{\n",
      "\t\t\t\"title\":\"<b>서울의 봄<\\/b>(<b>영화<\\/b>)\\/흥행 - 나무위키\",\n",
      "\t\t\t\"link\":\"https:\\/\\/namu.wiki\\/w\\/%EC%84%9C%EC%9A%B8%EC%9D%98%20%EB%B4%84(%EC%98%81%ED%99%94)\\/%ED%9D%A5%ED%96%89\",\n",
      "\t\t\t\"description\":\"<b>영화<\\/b> 〈<b>서울의 봄<\\/b>〉의 흥행을 정리한 문서. 위의 기록 외의 상영 당시 〈<b>서울의 봄<\\/b>〉이 세운 기록은 다음과 같다.\"\n",
      "\t\t},\n",
      "\t\t{\n",
      "\t\t\t\"title\":\"<b>서울의 봄<\\/b> <b>영화<\\/b> 생략된 내용 1212 사태의 시작과 등장인물 실제인물 리뷰\",\n",
      "\t\t\t\"link\":\"https:\\/\\/blog.naver.com\\/dysnomia\\/223274686241\",\n",
      "\t\t\t\"description\":\"<b>서울의 봄<\\/b> <b>영화<\\/b>에서는 실제 일어난 사건 과정 중에서 중간에 생략된 내용이 있다. 여기서는 중간에 빠진... 좌천시켜서 일단 <b>서울<\\/b>에 못 있게 하여 권력을 뺏자는 것이었다. 여기서 노재현 국방장관은 <b>영화<\\/b>에서...\"\n",
      "\t\t},\n",
      "\t\t{\n",
      "\t\t\t\"title\":\"<b>영화<\\/b> '<b>서울의 봄<\\/b>' 시사회 후기, 역대급 출연진·평점.. '상영시간 190분' 지루하지 않은 이유 &lt; <b>영화<\\/b> &lt; 연예 &lt; 기....\",\n",
      "\t\t\t\"link\":\"https:\\/\\/www.salgoonews.com\\/news\\/articleView.html?idxno=35877\",\n",
      "\t\t\t\"description\":\"1970년대 말부터 1980년대 초까지의 12.12 군사반란과 <b>서울의 봄<\\/b> 등 실화를 배경으로 한 '<b>서울의 봄<\\/b>'이 개봉 전부터 많은 관심을 끌고 있습니다.시사회를 통해 먼저 <b>영화<\\/b>를 접한 관객들은\"\n",
      "\t\t},\n",
      "\t\t{\n",
      "\t\t\t\"title\":\"<b>서울의 봄<\\/b>(<b>영화<\\/b>)\\/평가 - 나무위키\",\n",
      "\t\t\t\"link\":\"https:\\/\\/namu.wiki\\/w\\/%EC%84%9C%EC%9A%B8%EC%9D%98%20%EB%B4%84(%EC%98%81%ED%99%94)\\/%ED%8F%89%EA%B0%80\",\n",
      "\t\t\t\"description\":\"<b>영화<\\/b> 《<b>서울의 봄<\\/b>》의 평가를 정리한 문서. 11월 9일 첫 시사회가 공개되었는데, 평가가 매우 좋다. 정식 개봉 이후에도 전반적인 호평을 이어 가며, 2023년 한국에 개봉한 한국 <b>영화<\\/b>와 외화를 합한 모든 상업<b>영화<\\/b> 중 가장 높은 관객 평점을 기록하고 있다. 멀티플렉스 3사와 네이버 평점 기준으로, 기존에 가장 ...\"\n",
      "\t\t},\n",
      "\t\t{\n",
      "\t\t\t\"title\":\"<b>영화 서울의 봄<\\/b> 출연진 및 등장인물 정보 총정리 - 엔터이슈\",\n",
      "\t\t\t\"link\":\"https:\\/\\/1uras.5yuk.com\\/entry\\/%EC%98%81%ED%99%94-%EC%84%9C%EC%9A%B8%EC%9D%98-%EB%B4%84-%EC%B6%9C%EC%97%B0%EC%A7%84-%EB%B0%8F-%EB%93%B1%EC%9E%A5%EC%9D%B8%EB%AC%BC-%EC%A0%95%EB%B3%B4-%EC%B4%9D%EC%A0%95%EB%A6%AC\",\n",
      "\t\t\t\"description\":\"12. 12 군사반란을 겪었던 실화를 배경으로 현장을 생생히 담아낸 역사 스릴러 <b>영화 서울의 봄<\\/b>의 출연진 및 등장인물은 누구이고 어떤 캐릭터인지 본문을 통해 자세히 소개해 드리겠습니다. 목차 <b>영화 서울의 봄<\\/b> 출연진 및 등장인물 정보 총정리 <b>영화 서울의 봄<\\/b>은 1979년 12월 12일에 일어난 12.12 군사반란을 소재로 한 역사 드라마 <b>영화<\\/b>입니다. 이...\"\n",
      "\t\t},\n",
      "\t\t{\n",
      "\t\t\t\"title\":\"<b>영화<\\/b> ‘<b>서울의 봄<\\/b>’에서 미친 연기로 몰입도 확 높인 ‘명품 조연’ 5인의 필모그래피 - 인사이트\",\n",
      "\t\t\t\"link\":\"https:\\/\\/www.insight.co.kr\\/news\\/456723\",\n",
      "\t\t\t\"description\":\"<b>영화 서울의 봄<\\/b>에서 관객들의 시선을 사로잡은 조연들의 필모그래피를 모아봤다.\"\n",
      "\t\t}\n",
      "\t]\n",
      "}\n"
     ]
    }
   ],
   "source": [
    "encText = urllib.parse.quote(\"영화 서울의 봄\")\n",
    "url = \"https://openapi.naver.com/v1/search/webkr?query=\" + encText # JSON 결과\n",
    "# url = \"https://openapi.naver.com/v1/search/blog.xml?query=\" + encText # XML 결과\n",
    "request = urllib.request.Request(url)\n",
    "request.add_header(\"X-Naver-Client-Id\",client_id)\n",
    "request.add_header(\"X-Naver-Client-Secret\",client_secret)\n",
    "response = urllib.request.urlopen(request)\n",
    "rescode = response.getcode()\n",
    "if(rescode==200):\n",
    "    response_body = response.read()\n",
    "    print(response_body.decode('utf-8'))\n",
    "else:\n",
    "    print(\"Error Code:\" + rescode)"
   ]
  },
  {
   "cell_type": "markdown",
   "id": "f82782c7",
   "metadata": {},
   "source": [
    "### 리뷰 크롤링"
   ]
  },
  {
   "cell_type": "code",
   "execution_count": 11,
   "id": "9000ed3f",
   "metadata": {
    "ExecuteTime": {
     "end_time": "2024-01-27T11:31:40.265825Z",
     "start_time": "2024-01-27T11:31:39.671486Z"
    },
    "scrolled": true
   },
   "outputs": [
    {
     "data": {
      "text/plain": [
       "['권력을 향한 탐욕과 상식적인 명분이 치열하게 맞부딪치던 밤의 이야기. 하나의 관점을 지닌 역사적 해석으로도, 상업적 감각과 재미를 겸한 창작물로서도 좋다. 영화를 통해 현대사의 암흑을 들여다보는 것은 일종의 각성제 역할을 한다. 민주주의의 봄을 겨울로 되돌리기 위해 또다시 어디에선가 벌어질지 모를 밀실 작당에 굴복하지 않기 위해서. ‘지금 같은 때에 어떻게 그런 일이 가능한가’라는 물음은 합당하지 않다. 44년 전에 이미 그런 식으로 봄은 한차례 끝이 났었다. 황정민과 정우성을 위시한 모든 배우들의 열연은 올스타전을 방불케 한다. 특히 황정민의 연기는 압도적 카리스마라 해야 할지, 마력에 가까운 그 무엇이라 해야 할지 망설여질 정도다. 그만큼 그가 연기한 전두광의 존재감은 뜨겁고 악랄한 불같다.',\n",
       " '12.12 군사 반란이라는 역사적 사실을 생생한 캐릭터와 상반된 가치의 충돌로 재구성했다. 육군 내 사조직 하나회의 우두머리 전두광(황정민)은 권력을 향한 야욕을 숨기지 않는다. 권력의 빈자리를 차지하기 위해 인맥, 협박, 뇌물 등 가용 자원을 모두 동원하다 국방에 쓰여야 하는 무력까지 사사로이 전횡한다. 탐욕을 채우기 위해 대의도 명분도 필요치 않은 그의 반대편에는 수도경비사령관 이태신(정우성)이 있다. 원칙대로 싸우겠다는 그는 부끄러움을 알고 신념을 가진 자다. 나라를 지킨다는 군인의 소명의식마저 내던진 전두광 패거리를 같은 군인으로서 수치스럽게 여긴 그의 싸움은 아무것도 담보하지 못했지만 그것이 정의이며 부끄러운 승리보다 값진 역사로 남았다.',\n",
       " '2023년 올해의 웰메이드 한국 영화다. 시나리오, 연출, 연기, 촬영, 편집, 음악, 미술, 사운드 등 영화를 이루는 모든 요소가 톱니바퀴처럼 맞물리며 일사불란하게 움직인다. 141분의 러닝타임이 짧게 느껴지는 이유다. 상업 영화의 재미를 충족하면서 근현대사를 다룬 팩션의 모범 사례를 만들었다. 안다고 생각했던 치욕의 역사를 돌이켜 저마다의 반응을 끌어내는 시도도 성공적이다. 분노일 수도, 반성일 수도, 각성일 수도 있다. 영화가 준 자극을 어떻게 이어 나갈 것인가 하는 과제가 관객에게 주어진다. 김성수 감독과 정우성은 그들의 최고작을 경신하며 놀라운 장면과 연기를 보여준다. 주조연, 특별출연을 가리지 않고 제 몫을 해낸 배우들도 칭송해야 마땅하다.',\n",
       " '쓰디쓰게 기록된 역사의 빈틈에 장르적 흥분을 촘촘히 박아 내달리는 영화다. ‘소신’과 ‘야심’과 ‘방심’과 ‘불신’으로 승부가 연신 엎치락뒤치락하는 모습이 흡사 게임 같기도 한데, 전두광(황정민)이 이끄는 반란군과 이태신(정우성) 중심으로 짜인 진압군의 전략 대결에서 피어오르는 서스펜스가 상당하다. 결말이 알려진 이야기임에도, 능란한 편집과 뚝심 있는 연출 덕분에 ‘혹시나 반란을 막아낼 수 있었다면’이라는 상상을 불러일으킨다. 뚜렷한 흑백/선악 묘사는 극의 지뢰가 될 수 있는 요소. 그러나 연기력 출중한 배우들이 캐릭터를 영리하게 다스리며, 그 지뢰들을 상당 부분 제거해낸다. 만든 이들의 어떤 결기가 손에 잡힐듯하다.',\n",
       " '권력이 영원할 줄 아는 사악한 바보들에게',\n",
       " '여러모로 아슬아슬하다',\n",
       " '바둑을 오셀로로 뒤집으려는 병법의 하룻밤',\n",
       " '검사의 봄에 되돌아보는, 뱀의 욕망이 낳은 탄식과 울분의 밤',\n",
       " '‘전두광 영화’가 되지 않았다는 점이 놀랍다',\n",
       " '‘어떻게 성공했지?’라는 궁금증과 하나회를 향한 분노가 왔다 갔다']"
      ]
     },
     "execution_count": 11,
     "metadata": {},
     "output_type": "execute_result"
    }
   ],
   "source": [
    "import requests\n",
    "import pandas as pd\n",
    "from bs4 import BeautifulSoup\n",
    "import time\n",
    "\n",
    "headers = {'User-Agent' : 'Mozilla/5.0 (Windows NT 10.0; Win64; x64)AppleWebKit/537.36 (KHTML, like Gecko) Chrome/73.0.3683.86 Safari/537.36'}\n",
    "encText = urllib.parse.quote(\"영화 서울의 봄 관람평\")\n",
    "url = 'https://search.naver.com/search.naver?where=nexearch&sm=top_hty&fbm=0&ie=utf8&query='+ encText\n",
    "\n",
    "resp = requests.get(url, headers=headers)\n",
    "# time.sleep(5)\n",
    "soup = BeautifulSoup(resp.text, 'html.parser')\n",
    "\n",
    "tag_list = soup.find_all('span', class_='desc _text')\n",
    "review_list = [tag.get_text() for tag in tag_list]\n",
    "review_list"
   ]
  },
  {
   "cell_type": "markdown",
   "id": "2a783bef",
   "metadata": {},
   "source": [
    "페이지 로딩 완료 후 크롤링\n",
    "\n",
    "- https://copyprogramming.com/howto/python-request-wait-for-page-to-load#wait-page-to-load-before-getting-data-with-requestsget-in-python-3\n",
    "- https://github.com/psf/requests-html/issues/440"
   ]
  },
  {
   "cell_type": "code",
   "execution_count": 71,
   "id": "1a30bc57",
   "metadata": {
    "ExecuteTime": {
     "end_time": "2024-01-28T10:13:34.398918Z",
     "start_time": "2024-01-28T10:13:34.299163Z"
    },
    "scrolled": true
   },
   "outputs": [
    {
     "data": {
      "text/plain": [
       "['팩트소재 영화지만 우성이형이 이기길 바라면서 본 사람들은 개추 ',\n",
       " '대통령 최규하는 참모총장 정승화, 수경사령관 장태완 체포동의서에 사인 후 12월13일이라는 날짜를 표기함. 이는 작전시작일인 12일보다 동의서 재가가 하루 늦었다는 것을 각인한 것으로, 작전과 재가 자체가 부당한 것이었음을 서류화한 것이다. 힘이 없...',\n",
       " '저 짓을 하고 늙어 죽었다는게 어이가 없다. ',\n",
       " '막을 수 있었기에 더 화가난다. ',\n",
       " '1979년 12월 12일..육사 출신들로 모여 만들어진 군내 사조직 하나회가 어떻게 반란을 했는지와 당시 육본 장군들의 비겁함과 무기력함..장태완 수경사령관과 정병주 특전사령관..그리고 반란군에 맞서 싸웠던 장병들의 헌신과 군인정신을 잘보았습니다.121...',\n",
       " '배우들 연기 미쳤다.. 몰입하다보니 영화 끝나있음.. 내 기준 올해 한국 영화 중에 탑ㅠ ',\n",
       " '알고는 있었지만 이 정도인 줄은 몰랐다. 물론 다큐가 아닌 영화라 상당 부분 각색되어 있지만 실제 사건의 흐름을 보고 앉아있자니 그라데이션으로 끓어오르는 빡침이 상당하다. 재미있는데 빡쳐. 언론 평가가 왜 이렇게 좋은지도 알겠고, 간만에 영화 같은 ...',\n",
       " '추악한 역사에서도 우리는 배운다 ',\n",
       " '영화 보다보면 전두광보다 국방부장관 더 후드려패고 싶지 않나요? ㅠㅠ ',\n",
       " '연기 미쳤다 진짜ㅠ 기대했던 것 보다 훨씬 더 잘만든 영화. 2시간 내내 몰입되서 시간이 어떻게 간 줄도 모르겠음. ',\n",
       " '팩트소재 영화지만 우성이형이 이기길 바라면서 본 사람들은 개추 ',\n",
       " '대통령 최규하는 참모총장 정승화, 수경사령관 장태완 체포동의서에 사인 후 12월13일이라는 날짜를 표기함. 이는 작전시작일인 12일보다 동의서 재가가 하루 늦었다는 것을 각인한 것으로, 작전과 재가 자체가 부당한 것이었음을 서류화한 것이다. 힘이 없는 시한부 대통령의 마지막 남은 자존심이었으리라. ',\n",
       " '저 짓을 하고 늙어 죽었다는게 어이가 없다. ',\n",
       " '막을 수 있었기에 더 화가난다. ',\n",
       " '1979년 12월 12일..육사 출신들로 모여 만들어진 군내 사조직 하나회가 어떻게 반란을 했는지와 당시 육본 장군들의 비겁함과 무기력함..장태완 수경사령관과 정병주 특전사령관..그리고 반란군에 맞서 싸웠던 장병들의 헌신과 군인정신을 잘보았습니다.1212를 일으켰던 반란군들이 승승장구해서 참모총장도 해쳐먹고, 안기부장, 장관, 국회의원..그리고 대통령까지 해쳐먹었죠..그런 반란군들은 아직도 군 인트라넷에 버젓이 역대지휘관으로 사진 올라와있고..아직도 군의 원로로 대우받고 살아가더이다..일베같은 일부 생각없는 자들은 아직도 전두환을 찬양하더이다. 저 반란군들이 찬탈한 정권의 부역자들이 아직도 우리나라 정계에 영향력을 끼치고있더이다..슬프고..장엄하고..안타깝고..분노스러운..그런 영화였습니다.. ',\n",
       " '배우들 연기 미쳤다.. 몰입하다보니 영화 끝나있음.. 내 기준 올해 한국 영화 중에 탑ㅠ ',\n",
       " '알고는 있었지만 이 정도인 줄은 몰랐다. 물론 다큐가 아닌 영화라 상당 부분 각색되어 있지만 실제 사건의 흐름을 보고 앉아있자니 그라데이션으로 끓어오르는 빡침이 상당하다. 재미있는데 빡쳐. 언론 평가가 왜 이렇게 좋은지도 알겠고, 간만에 영화 같은 영화를 봐서 반가움. 주말에 부모님 모시고 한번 더 볼까.. ',\n",
       " '추악한 역사에서도 우리는 배운다 ',\n",
       " '영화 보다보면 전두광보다 국방부장관 더 후드려패고 싶지 않나요? ㅠㅠ ',\n",
       " '연기 미쳤다 진짜ㅠ 기대했던 것 보다 훨씬 더 잘만든 영화. 2시간 내내 몰입되서 시간이 어떻게 간 줄도 모르겠음. ',\n",
       " '권력을 향한 탐욕과 상식적인 명분이 치열하게 맞부딪치던 밤의 이야기. 하나의 관점을 지닌 역사적 해석으로도, 상업적 감각과 재미를 겸한 창작물로서도 좋다. 영화를 통해 현대사의 암흑을 들여다보는 것은 일종의 각성제 역할을 한다. 민주주의의 봄을 겨울로 되돌리기 위해 또다시 어디에선가 벌어질지 모를 밀실 작당에 굴복하지 않기 위해서. ‘지금 같은 때에 어떻게 그런 일이 가능한가’라는 물음은 합당하지 않다. 44년 전에 이미 그런 식으로 봄은 한차례 끝이 났었다. 황정민과 정우성을 위시한 모든 배우들의 열연은 올스타전을 방불케 한다. 특히 황정민의 연기는 압도적 카리스마라 해야 할지, 마력에 가까운 그 무엇이라 해야 할지 망설여질 정도다. 그만큼 그가 연기한 전두광의 존재감은 뜨겁고 악랄한 불같다.',\n",
       " '12.12 군사 반란이라는 역사적 사실을 생생한 캐릭터와 상반된 가치의 충돌로 재구성했다. 육군 내 사조직 하나회의 우두머리 전두광(황정민)은 권력을 향한 야욕을 숨기지 않는다. 권력의 빈자리를 차지하기 위해 인맥, 협박, 뇌물 등 가용 자원을 모두 동원하다 국방에 쓰여야 하는 무력까지 사사로이 전횡한다. 탐욕을 채우기 위해 대의도 명분도 필요치 않은 그의 반대편에는 수도경비사령관 이태신(정우성)이 있다. 원칙대로 싸우겠다는 그는 부끄러움을 알고 신념을 가진 자다. 나라를 지킨다는 군인의 소명의식마저 내던진 전두광 패거리를 같은 군인으로서 수치스럽게 여긴 그의 싸움은 아무것도 담보하지 못했지만 그것이 정의이며 부끄러운 승리보다 값진 역사로 남았다.',\n",
       " '2023년 올해의 웰메이드 한국 영화다. 시나리오, 연출, 연기, 촬영, 편집, 음악, 미술, 사운드 등 영화를 이루는 모든 요소가 톱니바퀴처럼 맞물리며 일사불란하게 움직인다. 141분의 러닝타임이 짧게 느껴지는 이유다. 상업 영화의 재미를 충족하면서 근현대사를 다룬 팩션의 모범 사례를 만들었다. 안다고 생각했던 치욕의 역사를 돌이켜 저마다의 반응을 끌어내는 시도도 성공적이다. 분노일 수도, 반성일 수도, 각성일 수도 있다. 영화가 준 자극을 어떻게 이어 나갈 것인가 하는 과제가 관객에게 주어진다. 김성수 감독과 정우성은 그들의 최고작을 경신하며 놀라운 장면과 연기를 보여준다. 주조연, 특별출연을 가리지 않고 제 몫을 해낸 배우들도 칭송해야 마땅하다.',\n",
       " '쓰디쓰게 기록된 역사의 빈틈에 장르적 흥분을 촘촘히 박아 내달리는 영화다. ‘소신’과 ‘야심’과 ‘방심’과 ‘불신’으로 승부가 연신 엎치락뒤치락하는 모습이 흡사 게임 같기도 한데, 전두광(황정민)이 이끄는 반란군과 이태신(정우성) 중심으로 짜인 진압군의 전략 대결에서 피어오르는 서스펜스가 상당하다. 결말이 알려진 이야기임에도, 능란한 편집과 뚝심 있는 연출 덕분에 ‘혹시나 반란을 막아낼 수 있었다면’이라는 상상을 불러일으킨다. 뚜렷한 흑백/선악 묘사는 극의 지뢰가 될 수 있는 요소. 그러나 연기력 출중한 배우들이 캐릭터를 영리하게 다스리며, 그 지뢰들을 상당 부분 제거해낸다. 만든 이들의 어떤 결기가 손에 잡힐듯하다.',\n",
       " '권력이 영원할 줄 아는 사악한 바보들에게',\n",
       " '여러모로 아슬아슬하다',\n",
       " '바둑을 오셀로로 뒤집으려는 병법의 하룻밤',\n",
       " '검사의 봄에 되돌아보는, 뱀의 욕망이 낳은 탄식과 울분의 밤',\n",
       " '‘전두광 영화’가 되지 않았다는 점이 놀랍다',\n",
       " '‘어떻게 성공했지?’라는 궁금증과 하나회를 향한 분노가 왔다 갔다']"
      ]
     },
     "execution_count": 71,
     "metadata": {},
     "output_type": "execute_result"
    }
   ],
   "source": [
    "from requests_html import HTMLSession, AsyncHTMLSession \n",
    "\n",
    "asession = AsyncHTMLSession() \n",
    "r = await asession.get(url)\n",
    "await r.html.arender(sleep = 10) # sleeping is optional but do it just in case\n",
    "html = r.html.raw_html\n",
    "await asession.close()\n",
    "\n",
    "soup = BeautifulSoup(html, 'html.parser')\n",
    "tag_list = soup.find_all('span', class_='desc _text')\n",
    "# tag_list = soup.select('span[class^=\"desc\"]')\n",
    "\n",
    "review_list = [tag.get_text() for tag in tag_list]\n",
    "review_list"
   ]
  },
  {
   "cell_type": "markdown",
   "id": "f10a9d3d",
   "metadata": {},
   "source": [
    "### Word Rank"
   ]
  },
  {
   "cell_type": "markdown",
   "id": "7a2fd0a4",
   "metadata": {},
   "source": [
    "- KR-WordRank : https://github.com/lovit/KR-WordRank\n",
    "- 중국어와 일본어의 비지도학습 word segmentation\n",
    "- wordrank + 한국어 특성(띄어쓰기, 어절 구조)\n",
    "- 설명 링크 : https://lovit.github.io/nlp/2018/04/16/krwordrank/"
   ]
  },
  {
   "cell_type": "code",
   "execution_count": 117,
   "id": "b2cbe461",
   "metadata": {
    "ExecuteTime": {
     "end_time": "2024-01-28T12:18:17.489142Z",
     "start_time": "2024-01-28T12:18:17.443900Z"
    }
   },
   "outputs": [
    {
     "name": "stdout",
     "output_type": "stream",
     "text": [
      "scan vocabs ... \n",
      "num vocabs = 60\n",
      "done = 10\n",
      "아직도:\t2.065\n",
      "영화:\t1.967\n",
      "반란군:\t1.279\n",
      "대통령:\t0.846\n"
     ]
    }
   ],
   "source": [
    "from krwordrank.word import KRWordRank\n",
    "\n",
    "# 조건설정\n",
    "\n",
    "# min_count =5 # 단어출현빈도 수 (5번 이상 출현한 단어)\n",
    "max_length = 10 # 단어 길이 최대 값\n",
    "verbose = True\n",
    "\n",
    "wordrank_extractor = KRWordRank(min_count=min_count, max_length=max_length, verbose=verbose)\n",
    "\n",
    "\n",
    "beta = 0.85  # PageRank의 decaying factor beta, 이 값을 이용하여 각 노드(키워드) 간의 관계를 계산\n",
    "max_iter = 10 # WordRank 알고리즘의 최대 반복 횟수\n",
    "\n",
    "# keywords : 텍스트에서 추출한 주요 단어\n",
    "# rank : 텍스트 score\n",
    "# graph : 추출한 키워드의 관계도 그래프\n",
    "\n",
    "keywords, rank, graph = wordrank_extractor.extract(review_list, beta, max_iter)\n",
    "\n",
    "# 추출된 키워드 상위 30개 추출\n",
    "for word, r in sorted(keywords.items(), key=lambda x:x[1], reverse=True)[:30]:\n",
    "  print('%s:\\t%.3f' % (word,r))"
   ]
  },
  {
   "cell_type": "code",
   "execution_count": 120,
   "id": "5f49c49f",
   "metadata": {
    "ExecuteTime": {
     "end_time": "2024-01-28T12:20:42.462358Z",
     "start_time": "2024-01-28T12:20:42.443741Z"
    }
   },
   "outputs": [
    {
     "name": "stdout",
     "output_type": "stream",
     "text": [
      "반란군:\t1.279\n",
      "대통령:\t0.846\n"
     ]
    }
   ],
   "source": [
    "stopwords=['영화', '아직도'] # 위 keywords에서 제거하고싶은 단어\n",
    "#stopwords 제거 후 keywords 상위 300개 추출\n",
    "passwords={\n",
    "    word:score for word, score in sorted(\n",
    "        keywords.items(), key=lambda x:-x[1])[:300] if not (word in stopwords)\n",
    "  }\n",
    "\n",
    "# 추출된 키워드 상위 30개 추출\n",
    "for word, r in sorted(passwords.items(), key=lambda x:x[1], reverse=True)[:20]:\n",
    "  print('%s:\\t%.3f' % (word,r))"
   ]
  },
  {
   "cell_type": "code",
   "execution_count": 130,
   "id": "d86ad19b",
   "metadata": {
    "ExecuteTime": {
     "end_time": "2024-01-28T12:28:40.989767Z",
     "start_time": "2024-01-28T12:28:40.956902Z"
    }
   },
   "outputs": [],
   "source": [
    "# 한글폰트 세팅\n",
    "\n",
    "import matplotlib as mpl\n",
    "import matplotlib.pyplot as plt\n",
    "import matplotlib.font_manager as fm # 폰트매니저\n",
    "\n",
    "%config InlineBackend.figure_format = 'retina' # 그래프 이미지의 해상도를 설정합니다.\n",
    "\n",
    "path = '../fonts/NanumBarunGothic.ttf' # NanumBarunGothic 폰트의 경로를 지정합니다.\n",
    "\n",
    "fe = fm.FontEntry(\n",
    "    fname=path, # ttf 파일이 저장되어 있는 경로\n",
    "    name='NanumGothic')                        # 이 폰트의 원하는 이름 설정\n",
    "fm.fontManager.ttflist.insert(0, fe)              # Matplotlib에 폰트 추가\n",
    "plt.rcParams.update({'font.size': 18, 'font.family': 'NanumGothic'})"
   ]
  },
  {
   "cell_type": "code",
   "execution_count": 131,
   "id": "185136dc",
   "metadata": {
    "ExecuteTime": {
     "end_time": "2024-01-28T12:28:47.453653Z",
     "start_time": "2024-01-28T12:28:41.431347Z"
    }
   },
   "outputs": [
    {
     "data": {
      "text/plain": [
       "<matplotlib.image.AxesImage at 0x1dc42027a60>"
      ]
     },
     "execution_count": 131,
     "metadata": {},
     "output_type": "execute_result"
    },
    {
     "data": {
      "image/png": "[encoded data removed]",
      "text/plain": [
       "<Figure size 640x480 with 1 Axes>"
      ]
     },
     "metadata": {
      "image/png": {
       "height": 432,
       "width": 459
      }
     },
     "output_type": "display_data"
    }
   ],
   "source": [
    "from wordcloud import WordCloud\n",
    "\n",
    "wc = WordCloud(\n",
    "    font_path = path,\n",
    "    width=1000,  # 그래프 크기\n",
    "    height=1000, # 그래프 크기\n",
    "    scale=3.0, # 해상도 스케일링\n",
    "    max_font_size=250 # 최대 폰트\n",
    "\n",
    ")\n",
    "\n",
    "gen = wc.generate_from_frequencies(passwords)\n",
    "\n",
    "plt.figure()\n",
    "plt.imshow(gen)"
   ]
  },
  {
   "cell_type": "markdown",
   "id": "3cc47a2e",
   "metadata": {},
   "source": [
    "### 네이버 통합 검색어 트랜드 조회\n",
    "https://developers.naver.com/docs/serviceapi/datalab/search/search.md#%ED%86%B5%ED%95%A9-%EA%B2%80%EC%83%89%EC%96%B4-%ED%8A%B8%EB%A0%8C%EB%93%9C"
   ]
  },
  {
   "cell_type": "code",
   "execution_count": 14,
   "id": "050dbe38",
   "metadata": {
    "ExecuteTime": {
     "end_time": "2024-01-26T13:47:46.782969Z",
     "start_time": "2024-01-26T13:47:46.489743Z"
    }
   },
   "outputs": [
    {
     "name": "stdout",
     "output_type": "stream",
     "text": [
      "{\"startDate\":\"2023-10-30\",\"endDate\":\"2024-01-07\",\"timeUnit\":\"week\",\"results\":[{\"title\":\"서울의 봄\",\"keywords\":[\"서울의 봄\",\"김성수\"],\"data\":[{\"period\":\"2023-10-30\",\"ratio\":3.26359},{\"period\":\"2023-11-06\",\"ratio\":10.87866},{\"period\":\"2023-11-13\",\"ratio\":12.38493},{\"period\":\"2023-11-20\",\"ratio\":65.60669},{\"period\":\"2023-11-27\",\"ratio\":93.43096},{\"period\":\"2023-12-04\",\"ratio\":85.52301},{\"period\":\"2023-12-11\",\"ratio\":100},{\"period\":\"2023-12-18\",\"ratio\":95.1046},{\"period\":\"2023-12-25\",\"ratio\":57.82426},{\"period\":\"2024-01-01\",\"ratio\":28.03347}]}]}\n"
     ]
    }
   ],
   "source": [
    "#-*- coding: utf-8 -*-\n",
    "url = \"https://openapi.naver.com/v1/datalab/search\";\n",
    "body = '''\n",
    "{\n",
    "    \\\"startDate\\\":\\\"2023-11-01\\\",\n",
    "    \\\"endDate\\\":\\\"2024-01-01\\\",\n",
    "    \\\"timeUnit\\\":\\\"week\\\",\n",
    "    \\\"keywordGroups\\\":[\n",
    "        {\n",
    "            \\\"groupName\\\":\\\"서울의 봄\\\",\n",
    "            \\\"keywords\\\":[\\\"서울의 봄\\\",\\\"김성수\\\"]\n",
    "        }\n",
    "    ]\n",
    "}\n",
    "'''\n",
    "request = urllib.request.Request(url)\n",
    "request.add_header(\"X-Naver-Client-Id\",client_id)\n",
    "request.add_header(\"X-Naver-Client-Secret\",client_secret)\n",
    "request.add_header(\"Content-Type\",\"application/json\")\n",
    "response = urllib.request.urlopen(request, data=body.encode(\"utf-8\"))\n",
    "rescode = response.getcode()\n",
    "if(rescode==200):\n",
    "    response_body = response.read()\n",
    "    print(response_body.decode('utf-8'))\n",
    "else:\n",
    "    print(\"Error Code:\" + rescode)"
   ]
  }
 ],
 "metadata": {
  "kernelspec": {
   "display_name": "Python 3 (ipykernel)",
   "language": "python",
   "name": "python3"
  },
  "language_info": {
   "codemirror_mode": {
    "name": "ipython",
    "version": 3
   },
   "file_extension": ".py",
   "mimetype": "text/x-python",
   "name": "python",
   "nbconvert_exporter": "python",
   "pygments_lexer": "ipython3",
   "version": "3.8.10"
  },
  "toc": {
   "base_numbering": 1,
   "nav_menu": {},
   "number_sections": true,
   "sideBar": true,
   "skip_h1_title": false,
   "title_cell": "Table of Contents",
   "title_sidebar": "Contents",
   "toc_cell": false,
   "toc_position": {},
   "toc_section_display": true,
   "toc_window_display": false
  }
 },
 "nbformat": 4,
 "nbformat_minor": 5
}
